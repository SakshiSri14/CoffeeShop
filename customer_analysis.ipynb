{
 "cells": [
  {
   "cell_type": "code",
   "execution_count": null,
   "metadata": {},
   "outputs": [],
   "source": [
    "import pandas as pd\n",
    "import numpy as np\n",
    "import matplotlib.pyplot as plt\n",
    "import seaborn as sns\n",
    "import re\n",
    "import sklearn \n",
    "sns.set()"
   ]
  },
  {
   "cell_type": "code",
   "execution_count": null,
   "metadata": {},
   "outputs": [],
   "source": [
    "raw_data = pd.read_excel(\"CoffeeShop.xlsx\",'orders')\n",
    "def is_valid_item_id(item_id):\n",
    "    return bool(re.match(r'^It0(0[1-9]|1[0-9]|2[0-4])$', item_id))\n",
    "\n",
    "# Apply the function to filter valid item ids range(It001 to It024)\n",
    "data = raw_data[raw_data['item_id'].apply(is_valid_item_id)]\n",
    "data.info()"
   ]
  },
  {
   "cell_type": "code",
   "execution_count": null,
   "metadata": {},
   "outputs": [],
   "source": [
    "price_data = pd.read_excel(\"CoffeeShop.xlsx\", 'items')\n",
    "merged_data = pd.merge(price_data, data,on='item_id')\n",
    "merged_data\n"
   ]
  },
  {
   "cell_type": "code",
   "execution_count": null,
   "metadata": {},
   "outputs": [],
   "source": [
    "req_data = merged_data[[\"order_id\",\"item_id\",\" item_price \",\"cust_name\"]]\n",
    "req_data[' item_price '] = req_data[' item_price '].replace({'£': ''}, regex=True).astype(float)\n",
    "req_data"
   ]
  },
  {
   "cell_type": "code",
   "execution_count": null,
   "metadata": {},
   "outputs": [],
   "source": [
    "aggregated_data = req_data.groupby(['order_id', 'cust_name']).agg({' item_price ': 'sum'}).reset_index()\n",
    "# filtered_data = aggregated_data[aggregated_data['cust_name'] == 'Alex']\n",
    "# filtered_data\n",
    "aggregated_data\n"
   ]
  },
  {
   "cell_type": "code",
   "execution_count": null,
   "metadata": {},
   "outputs": [],
   "source": []
  },
  {
   "cell_type": "code",
   "execution_count": null,
   "metadata": {},
   "outputs": [],
   "source": [
    "customer_data = aggregated_data.groupby('cust_name').agg({\n",
    "    'order_id': 'count',       # Number of orders\n",
    "    ' item_price ': 'sum'        # Total spending\n",
    "}).reset_index()\n",
    "\n",
    "customer_data['avg']= customer_data[' item_price ']/ customer_data['order_id']\n",
    "customer_data"
   ]
  },
  {
   "cell_type": "code",
   "execution_count": null,
   "metadata": {},
   "outputs": [],
   "source": [
    "from sklearn.preprocessing import StandardScaler\n",
    "\n",
    "# Standardize the features\n",
    "scaler = StandardScaler()\n",
    "scaled_features = scaler.fit_transform(customer_data[['order_id', 'avg']])\n",
    "\n",
    "scaled_features"
   ]
  },
  {
   "cell_type": "code",
   "execution_count": null,
   "metadata": {},
   "outputs": [],
   "source": [
    "from sklearn.cluster import KMeans\n",
    "\n",
    "wcss=[]\n",
    "\n",
    "for i in range (1,11):\n",
    "    kmeans=KMeans(i)\n",
    "    kmeans.fit(scaled_features)\n",
    "    wcss.append(kmeans.inertia_)\n",
    "    \n",
    "plt.plot(range(1,11), wcss)\n",
    "plt.title('The Elbow Method')\n",
    "plt.xlabel('Number of clusters')\n",
    "plt.ylabel('Within-cluster Sum of Squares')"
   ]
  },
  {
   "cell_type": "code",
   "execution_count": null,
   "metadata": {},
   "outputs": [],
   "source": [
    "kmeans = KMeans(4)\n",
    "kmeans.fit(scaled_features)\n",
    "customer_data['Clusters']= kmeans.fit_predict(scaled_features)\n",
    "customer_data"
   ]
  },
  {
   "cell_type": "code",
   "execution_count": null,
   "metadata": {},
   "outputs": [],
   "source": [
    "customer_data[['order_id','avg']]= scaler.inverse_transform(scaled_features)\n",
    "\n",
    "\n",
    "# Plot the clusters\n",
    "plt.figure(figsize=(12, 8))\n",
    "sns.scatterplot(data=customer_data, x='order_id', y='avg', hue='Clusters', palette='viridis')\n",
    "# plt.scatter(customer_data['order_id'], customer_data['avg'], c=customer_data['Clusters'], cmap = 'viridis')\n",
    "\n",
    "plt.xlabel(\"Number of Orders\")\n",
    "plt.ylabel(\"Average Spent\")\n",
    "plt.title(\"Customer Segments\")\n",
    "plt.show()"
   ]
  },
  {
   "cell_type": "code",
   "execution_count": null,
   "metadata": {},
   "outputs": [],
   "source": []
  }
 ],
 "metadata": {
  "kernelspec": {
   "display_name": "base",
   "language": "python",
   "name": "python3"
  },
  "language_info": {
   "codemirror_mode": {
    "name": "ipython",
    "version": 3
   },
   "file_extension": ".py",
   "mimetype": "text/x-python",
   "name": "python",
   "nbconvert_exporter": "python",
   "pygments_lexer": "ipython3",
   "version": "3.11.7"
  }
 },
 "nbformat": 4,
 "nbformat_minor": 2
}
